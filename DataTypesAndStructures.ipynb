{
  "nbformat": 4,
  "nbformat_minor": 0,
  "metadata": {
    "colab": {
      "provenance": []
    },
    "kernelspec": {
      "name": "python3",
      "display_name": "Python 3"
    },
    "language_info": {
      "name": "python"
    }
  },
  "cells": [
    {
      "cell_type": "markdown",
      "source": [
        "# Data Types and Structures Questions\n",
        "\n",
        "\n"
      ],
      "metadata": {
        "id": "jkI5toYbHxHu"
      }
    },
    {
      "cell_type": "markdown",
      "source": [
        "####1. What are data structures, and why are they important?\n",
        "\n",
        "###### Data Structures: Data structures are ways of organizing and storing data to allow efficient access and manipulation. They are essential in computer science as they determine how easily data can be processed and optimized for various tasks.\n",
        "\n",
        "###### Types of Data Structures:\n",
        "###### 1. Primitive: Basic types like integers, characters, and booleans.\n",
        "###### 2. Non-Primitive: More complex structures like arrays, linked lists, stacks, queues, trees, and graphs.\n",
        "\n",
        "###### Importance of Data Structures:\n",
        "###### Data structures are important because they organize data efficiently, making it easier and faster to access or modify. They optimize algorithms, improve memory usage, and help systems handle large amounts of data. Additionally, they are essential for solving complex problems like sorting and searching.\n",
        "\n"
      ],
      "metadata": {
        "id": "F8wB8X9YKI-L"
      }
    },
    {
      "cell_type": "markdown",
      "source": [
        "#### 2. Explain the difference between mutable and immutable data types with examples?\n",
        "Mutable data types can be changed after creation, while immutable data types cannot. For example, lists in Python are mutable because you can modify, add, or remove elements after they are created. On the other hand, tuples are immutable, meaning once they are created, their elements cannot be changed.\n",
        "\n",
        "Example:\n",
        "\n",
        "    Mutable: list1 = [1, 2, 3] → You can modify it like list1[0] = 10.\n",
        "    Immutable: tuple1 = (1, 2, 3) → You cannot modify it like tuple1[0] = 10.\n"
      ],
      "metadata": {
        "id": "o_QBoIwHM9PB"
      }
    },
    {
      "cell_type": "markdown",
      "source": [
        "#### 3.  What are the main differences between lists and tuples in Python?\n",
        "###### The main differences between lists and tuples in Python are:\n",
        "\n",
        "###### Mutability: Lists are mutable, meaning their elements can be changed, added, or removed. Tuples are immutable, meaning once created, their elements cannot be modified.\n",
        "->  List: my_list = [1, 2, 3] → You can change an element: my_list[0] = 10.\n",
        "        Tuple: my_tuple = (1, 2, 3) → You cannot change an element: my_tuple[0] = 10 will result in an error.\n",
        "\n",
        " ->  Syntax: Lists are defined with square brackets [], while tuples are defined with parentheses ().\n",
        "        List: my_list = [1, 2, 3]\n",
        "        Tuple: my_tuple = (1, 2, 3)\n",
        "\n",
        "-> Performance: Tuples are generally faster than lists because they are immutable and require less memory.\n",
        "\n",
        "->  Use cases: Lists are used when you need a collection of items that can be modified. Tuples are preferred when you need a fixed collection of items that shouldn’t be altered, such as coordinates or function arguments."
      ],
      "metadata": {
        "id": "wah98nmxOB8e"
      }
    },
    {
      "cell_type": "markdown",
      "source": [
        "#### 4.  Describe how dictionaries store data?\n",
        "Dictionaries in Python store data as key-value pairs. Each key is unique, and it maps to a corresponding value. They use a hash table for fast lookups, insertions, and deletions.\n",
        "\n",
        "Example:\n",
        "\n",
        "my_dict = {'name': 'Alice', 'age': 25}\n",
        "\n",
        "You can access values using their keys: my_dict['name'] → 'Alice'."
      ],
      "metadata": {
        "id": "pVQ2cpdHRxiB"
      }
    },
    {
      "cell_type": "markdown",
      "source": [
        "#### 5. Why might you use a set instead of a list in Python?\n",
        "->  You might choose a set over a list in Python3 when you need to store only unique items, as sets automatically remove duplicates. Sets are also faster when checking if an item is present, making them ideal for situations where you frequently need to check membership. Additionally, sets are great for performing operations like finding the union or intersection of multiple collections.\n",
        "\n",
        "For example, if you're working with a collection of unique values or need to quickly test if something exists in a group, a set is a better choice than a list."
      ],
      "metadata": {
        "id": "LgMy61vsSrCN"
      }
    },
    {
      "cell_type": "markdown",
      "source": [],
      "metadata": {
        "id": "U9vEEhvgT0bN"
      }
    },
    {
      "cell_type": "markdown",
      "source": [
        "#### 6. What is a string in Python, and how is it different from a list?\n",
        "String:\n",
        "A string in Python is a sequence of characters used to represent text. It is immutable, meaning once created, you can't change its content.\n",
        "\n",
        "For example:\n",
        "\n",
        "my_string = \"Hello\"\n",
        "\n",
        "List: A list is a collection of ordered elements, which can be of different types. Unlike strings, lists are mutable, so you can modify, add, or remove items.\n",
        "\n",
        "For example:\n",
        "\n",
        "my_list = [1, 2, \"apple\"]\n",
        "\n",
        "Key differences:\n",
        "\n",
        "    Strings are immutable, while lists are mutable.\n",
        "    Strings store text, but lists can store multiple data types.\n"
      ],
      "metadata": {
        "id": "A801d4TeT9Ak"
      }
    },
    {
      "cell_type": "markdown",
      "source": [
        "#### 7. How do tuples ensure data integrity in Python?\n",
        "\n",
        "Tuples ensure data integrity in Python by being immutable, meaning once a tuple is created, its elements cannot be modified, added, or removed. This immutability guarantees that the data stored in a tuple remains consistent and unchanged throughout the program, which helps prevent accidental data modification.\n",
        "\n",
        "For example:\n",
        "\n",
        "my_tuple = (1, 2, 3)\n",
        "\n",
        "-> #Trying to modify an element will raise an error:\n",
        "\n",
        "-> #my_tuple[0] = 10 This will result in a TypeError"
      ],
      "metadata": {
        "id": "lVH9mTtKYDzY"
      }
    },
    {
      "cell_type": "markdown",
      "source": [
        "#### 8. What is a hash table, and how does it relate to dictionaries in Python?\n",
        "A hash table is a data structure that stores data as key-value pairs and uses a hash function to determine where to store the value based on its key. This allows for fast lookups, insertions, and deletions.\n",
        "\n",
        "In Python, dictionaries are implemented using hash tables. The keys are hashed, and their corresponding values are stored in the table, enabling efficient access.\n",
        "\n",
        "For example:\n",
        "\n",
        "my_dict = {'name': 'Alice', 'age': 25}\n",
        "\n",
        "In summary, dictionaries in Python use hash tables to store and quickly retrieve key-value pairs."
      ],
      "metadata": {
        "id": "cwrbT1fLdXFX"
      }
    },
    {
      "cell_type": "markdown",
      "source": [
        "#### 9.  Can lists contain different data types in Python?\n",
        "Yes, lists in Python can contain different data types, such as integers, strings, and even other lists.\n",
        "\n",
        "Example:\n",
        "\n",
        "my_list = [1, \"hello\", 3.14, [1, 2, 3]]\n",
        "\n"
      ],
      "metadata": {
        "id": "9-OdWNPwegic"
      }
    },
    {
      "cell_type": "markdown",
      "source": [
        "#### 10.  Explain why strings are immutable in Python.\n",
        "Strings are immutable in Python to ensure data integrity and optimize performance. Once a string is created, it cannot be modified, which prevents accidental changes to string values. This immutability allows Python to store strings more efficiently, as they can be shared across different parts of a program without risk of modification.\n",
        "\n",
        "For example:\n",
        "\n",
        "my_string = \"hello\"\n",
        "\n",
        "-> # Trying to modify a string directly will raise an error:\n",
        "\n",
        "-> # my_string[0] = \"H\"  # This results in a TypeError\n",
        "\n",
        "In summary, string immutability ensures consistency, security, and efficient memory management."
      ],
      "metadata": {
        "id": "5brD_4SKfGp9"
      }
    },
    {
      "cell_type": "markdown",
      "source": [
        "#### 11. What advantages do dictionaries offer over lists for certain tasks?\n",
        "Dictionaries offer several advantages over lists for certain tasks:\n",
        "\n",
        "1. Fast lookups: You can access values by their unique keys, which is faster than searching through a list.\n",
        "2. Key-based organization: Dictionaries store data in key-value pairs, making it easier to represent relationships.\n",
        "3. No duplicates: Keys in a dictionary are unique, which helps avoid duplicate values.\n",
        "\n",
        "For example, when you need to map a person's name to their age, a dictionary is more efficient than a list."
      ],
      "metadata": {
        "id": "UnArLMNLgPLT"
      }
    },
    {
      "cell_type": "markdown",
      "source": [
        "#### 12. Describe a scenario where using a tuple would be preferable over a list.\n",
        "A tuple would be preferable over a list in a scenario where you need to store a fixed collection of data that should not be modified, ensuring data integrity. For example, storing geographic coordinates (latitude and longitude) would be a good use case for a tuple, as these values should remain constant throughout the program.\n",
        "\n",
        "Example:\n",
        "\n",
        "coordinates = (40.7128, -74.0060)  # Latitude and Longitude of New York City\n",
        "\n",
        "Here, using a tuple ensures that the coordinates remain unchanged, maintaining their integrity.\n"
      ],
      "metadata": {
        "id": "-R8L9HwCiHHr"
      }
    },
    {
      "cell_type": "markdown",
      "source": [
        "#### 13. P How do sets handle duplicate values in Python?\n",
        "In Python, sets automatically ignore duplicate values. When you try to add a duplicate element to a set, it will not be added, ensuring that all elements in a set are unique.\n",
        "\n",
        "For example:\n",
        "\n",
        "my_set = {1, 2, 3, 3, 4}\n",
        "print(my_set)  # Output: {1, 2, 3, 4}\n",
        "\n",
        "Here, the duplicate 3 is ignored, and the set only contains unique values."
      ],
      "metadata": {
        "id": "8wrHoIKDo1Xh"
      }
    },
    {
      "cell_type": "markdown",
      "source": [
        "#### 14. P How does the “in” keyword work differently for lists and dictionaries?\n",
        "The in keyword works differently for lists and dictionaries in Python:\n",
        "\n",
        " For lists, in checks if an element is present in the list. It performs a linear search, checking each item one by one.\n",
        "\n",
        "Example:\n",
        "      \n",
        "      my_list = [1, 2, 3]\n",
        "      print(2 in my_list)  # Output: True\n",
        "\n",
        "For dictionaries, in checks if a key is present, not the value. It searches the dictionary's keys efficiently.\n",
        "\n",
        "Example:\n",
        "\n",
        "    my_dict = {'a': 1, 'b': 2}\n",
        "    print('a' in my_dict)  # Output: True\n",
        "\n",
        "In summary, for lists, in checks for the presence of an element, while for dictionaries, it checks for the presence of a key.\n"
      ],
      "metadata": {
        "id": "e8SO1yfOpI1v"
      }
    },
    {
      "cell_type": "markdown",
      "source": [
        "#### 15. Can you modify the elements of a tuple? Explain why or why not.\n",
        "No, you cannot modify the elements of a tuple because tuples are immutable in Python. Once created, their contents cannot be changed, added, or removed. However, if a tuple contains mutable objects (like lists), those objects can be modified."
      ],
      "metadata": {
        "id": "wthA_Wp8p_KQ"
      }
    },
    {
      "cell_type": "markdown",
      "source": [
        "#### 16. What is a nested dictionary, and give an example of its use case?\n",
        "A nested dictionary is a dictionary where the values are themselves dictionaries. This allows for creating complex data structures to represent hierarchical data.\n",
        "\n",
        "Example Use Case: A nested dictionary can be used to store information about students, where each student has a dictionary with details like name, age, and grades.\n",
        "\n",
        "    students = {\n",
        "     \"student1\": {\"name\": \"Alice\", \"age\": 20, \"grades\": {\"math\": 90, \"english\":  85}},\n",
        "     \"student2\": {\"name\": \"Bob\", \"age\": 22, \"grades\": {\"math\": 88, \"english\":   78}},\n",
        "    }\n",
        "\n",
        "    # Accessing Bob's math grade\n",
        "    print(students[\"student2\"][\"grades\"][\"math\"])  # Output: 88"
      ],
      "metadata": {
        "id": "yQs8eNDSqzRa"
      }
    },
    {
      "cell_type": "markdown",
      "source": [
        "#### 17. Describe the time complexity of accessing elements in a dictionary.\n",
        "Accessing elements in a dictionary has a time complexity of O(1), meaning it takes constant time regardless of the dictionary's size. In rare cases of hash collisions, it could be O(n), but this is uncommon."
      ],
      "metadata": {
        "id": "1fXUnT58rpBh"
      }
    },
    {
      "cell_type": "markdown",
      "source": [
        "#### 18. In what situations are lists preferred over dictionaries?\n",
        "Lists are preferred over dictionaries in the following situations:\n",
        "\n",
        "  1. Ordered data: When the order of elements matters or you need to access items by their position (index).\n",
        "  2. Simple collections: When you just need to store a collection of items without the need for key-value pairs.\n",
        "  3. Iteration: When you need to iterate over a collection of elements in a predictable, ordered way.\n",
        "  4. Homogeneous data: When the data type is mostly the same (e.g., a list of numbers), and you don't need to associate elements with specific keys.\n",
        "\n",
        "Dictionaries are better when you need fast lookups based on keys."
      ],
      "metadata": {
        "id": "KIOc71yhsYVr"
      }
    },
    {
      "cell_type": "markdown",
      "source": [
        "#### 19. Why are dictionaries considered unordered, and how does that affect data retrieval?\n",
        "Dictionaries are considered unordered because they don't guarantee the order of key-value pairs. This doesn't affect data retrieval, as you can still quickly access values using keys (O(1) time complexity), but the order of items is not guaranteed.\n"
      ],
      "metadata": {
        "id": "89JxHeQps4pN"
      }
    },
    {
      "cell_type": "markdown",
      "source": [
        "#### 20. Explain the difference between a list and a dictionary in terms of data retrieval.\n",
        "The key difference between a list and a dictionary in terms of data retrieval is:\n",
        "\n",
        "  1. List: Data is retrieved using an index (position-based), meaning you access elements by their numerical position in the list. This makes the order of elements important.\n",
        "\n",
        "     Example:\n",
        "\n",
        "\n",
        "    my_list = [10, 20, 30]\n",
        "    print(my_list[1])  # Output: 20\n",
        "\n",
        "2. Dictionary: Data is retrieved using a key (key-value pair), meaning you access elements by specifying the associated key, not by position. Order is not important (though Python 3.7+ preserves insertion order).\n",
        "\n",
        "Example:\n",
        "\n",
        "    my_dict = {\"a\": 10, \"b\": 20}\n",
        "    print(my_dict[\"b\"])  # Output: 20\n",
        "\n",
        "In short, lists use indices for retrieval, while dictionaries use keys."
      ],
      "metadata": {
        "id": "iluCx4CktPWG"
      }
    },
    {
      "cell_type": "code",
      "source": [],
      "metadata": {
        "id": "QjYqabdStxec"
      },
      "execution_count": null,
      "outputs": []
    },
    {
      "cell_type": "markdown",
      "source": [
        "## Practical Questions (CODING)\n"
      ],
      "metadata": {
        "id": "etaE4cuMukfT"
      }
    },
    {
      "cell_type": "code",
      "source": [
        "# Q1. Write a code to create a string with your name and print it.\n",
        "name = \"Sarvan Yaduvanshi\"\n",
        "print(name)"
      ],
      "metadata": {
        "colab": {
          "base_uri": "https://localhost:8080/"
        },
        "id": "IBdY9nHwuo_g",
        "outputId": "06dac798-75d1-4605-e331-60b0451b414e"
      },
      "execution_count": 1,
      "outputs": [
        {
          "output_type": "stream",
          "name": "stdout",
          "text": [
            "Sarvan Yaduvanshi\n"
          ]
        }
      ]
    },
    {
      "cell_type": "code",
      "source": [
        "# Q2. Write a code to find the length of the string \"Hello World\".\n",
        "String = \"Hello World\"\n",
        "print(len(String))"
      ],
      "metadata": {
        "colab": {
          "base_uri": "https://localhost:8080/"
        },
        "id": "n1vfESTLwb5s",
        "outputId": "23bf5c16-0e95-4ac5-c60a-85c5733de8bc"
      },
      "execution_count": 2,
      "outputs": [
        {
          "output_type": "stream",
          "name": "stdout",
          "text": [
            "11\n"
          ]
        }
      ]
    },
    {
      "cell_type": "code",
      "source": [
        "# Q3. Write a code to slice the first 3 characters from the string \"Python Programming\".\n",
        "String = \"Python Programming\"\n",
        "print(String[0:3])"
      ],
      "metadata": {
        "colab": {
          "base_uri": "https://localhost:8080/"
        },
        "id": "yICI_aeYwuj7",
        "outputId": "3a9cc879-14c6-4997-b96a-e2e768ee43da"
      },
      "execution_count": 3,
      "outputs": [
        {
          "output_type": "stream",
          "name": "stdout",
          "text": [
            "Pyt\n"
          ]
        }
      ]
    },
    {
      "cell_type": "code",
      "source": [
        "# Q4. Write a code to convert the string \"hello\" to uppercase.\n",
        "String = \"hello\"\n",
        "print(String.upper())"
      ],
      "metadata": {
        "colab": {
          "base_uri": "https://localhost:8080/"
        },
        "id": "PAtaDrrxw6KI",
        "outputId": "54fcd112-addf-4cf3-c631-1fe8527f9a81"
      },
      "execution_count": 4,
      "outputs": [
        {
          "output_type": "stream",
          "name": "stdout",
          "text": [
            "HELLO\n"
          ]
        }
      ]
    },
    {
      "cell_type": "code",
      "source": [
        "# Q5. Write a code to replace the word \"apple\" with \"orange\" in the string \"I like apple\".\n",
        "String = \"I like apple\"\n",
        "print(String.replace(\"apple\", \"orange\"))"
      ],
      "metadata": {
        "colab": {
          "base_uri": "https://localhost:8080/"
        },
        "id": "3iErKKZHxJFS",
        "outputId": "77b4834b-fc9d-4b67-e39a-6eaa8581be4b"
      },
      "execution_count": 5,
      "outputs": [
        {
          "output_type": "stream",
          "name": "stdout",
          "text": [
            "I like orange\n"
          ]
        }
      ]
    },
    {
      "cell_type": "code",
      "source": [
        "# Q6. Write a code to create a list with numbers 1 to 5 and print it.\n",
        "List = [1, 2, 3, 4, 5]\n",
        "print(List)"
      ],
      "metadata": {
        "colab": {
          "base_uri": "https://localhost:8080/"
        },
        "id": "9u5YCVGUxgdt",
        "outputId": "487d222a-8d1a-42cb-9ba6-ace5257a2a50"
      },
      "execution_count": 6,
      "outputs": [
        {
          "output_type": "stream",
          "name": "stdout",
          "text": [
            "[1, 2, 3, 4, 5]\n"
          ]
        }
      ]
    },
    {
      "cell_type": "code",
      "source": [
        "# Q7. Write a code to append the number 10 to the list [1, 2, 3, 4].\n",
        "List = [1, 2, 3, 4]\n",
        "List.append(10)\n",
        "print(List)"
      ],
      "metadata": {
        "colab": {
          "base_uri": "https://localhost:8080/"
        },
        "id": "ray1N4v6xn2F",
        "outputId": "49be36b7-1de8-4ab7-cb51-d81accc4e92b"
      },
      "execution_count": 7,
      "outputs": [
        {
          "output_type": "stream",
          "name": "stdout",
          "text": [
            "[1, 2, 3, 4, 10]\n"
          ]
        }
      ]
    },
    {
      "cell_type": "code",
      "source": [
        "# Q8. Write a code to remove the number 3 from the list [1, 2, 3, 4, 5].\n",
        "List = [1, 2, 3, 4, 5]\n",
        "List.remove(3)\n",
        "print(List)"
      ],
      "metadata": {
        "colab": {
          "base_uri": "https://localhost:8080/"
        },
        "id": "4mI4vfgzxwHz",
        "outputId": "eb2ffc55-6e39-463f-bc31-a47f4df3d044"
      },
      "execution_count": 8,
      "outputs": [
        {
          "output_type": "stream",
          "name": "stdout",
          "text": [
            "[1, 2, 4, 5]\n"
          ]
        }
      ]
    },
    {
      "cell_type": "code",
      "source": [
        "# Q9. Write a code to access the second element in the list ['a', 'b', 'c', 'd'].\n",
        "List = ['a', 'b', 'c', 'd']\n",
        "print(List[1])"
      ],
      "metadata": {
        "colab": {
          "base_uri": "https://localhost:8080/"
        },
        "id": "7kOseKYsx7Oc",
        "outputId": "33ec4453-3b7e-469f-9ef2-d7c4f3f11b40"
      },
      "execution_count": 9,
      "outputs": [
        {
          "output_type": "stream",
          "name": "stdout",
          "text": [
            "b\n"
          ]
        }
      ]
    },
    {
      "cell_type": "code",
      "source": [
        "# Q10. Write a code to reverse the list [10, 20, 30, 40, 50].\n",
        "List = [10, 20, 30, 40, 50]\n",
        "List.reverse()\n",
        "print(List)"
      ],
      "metadata": {
        "colab": {
          "base_uri": "https://localhost:8080/"
        },
        "id": "mcfEY4lHyVWQ",
        "outputId": "c0caf93a-0968-4029-b556-99f538ad6aa7"
      },
      "execution_count": 31,
      "outputs": [
        {
          "output_type": "stream",
          "name": "stdout",
          "text": [
            "[50, 40, 30, 20, 10]\n"
          ]
        }
      ]
    },
    {
      "cell_type": "code",
      "source": [
        "# Q11. Write a code to create a tuple with the elements 100, 200, 300 and print it.\n",
        "Tuple = (100, 200, 300)\n",
        "print(Tuple)"
      ],
      "metadata": {
        "colab": {
          "base_uri": "https://localhost:8080/"
        },
        "id": "cT7bRee7ykRl",
        "outputId": "5d7afcee-fd9c-4bd5-8cf6-52a5e5fc0671"
      },
      "execution_count": 11,
      "outputs": [
        {
          "output_type": "stream",
          "name": "stdout",
          "text": [
            "(100, 200, 300)\n"
          ]
        }
      ]
    },
    {
      "cell_type": "code",
      "source": [
        "# Q12. Write a code to access the second-to-last element of the tuple ('red', 'green', 'blue', 'yellow').\n",
        "Tuple = ('red', 'green', 'blue', 'yellow')\n",
        "print(Tuple[-2])"
      ],
      "metadata": {
        "colab": {
          "base_uri": "https://localhost:8080/"
        },
        "id": "wYfBtpvCywdk",
        "outputId": "7838730d-c18f-4fca-8064-5c11ba777b1b"
      },
      "execution_count": 12,
      "outputs": [
        {
          "output_type": "stream",
          "name": "stdout",
          "text": [
            "blue\n"
          ]
        }
      ]
    },
    {
      "cell_type": "code",
      "source": [
        "# Q13. Write a code to find the minimum number in the tuple (10, 20, 5, 15).\n",
        "Tuple = (10, 20, 5, 15)\n",
        "print(min(Tuple))"
      ],
      "metadata": {
        "colab": {
          "base_uri": "https://localhost:8080/"
        },
        "id": "PpSfQtK-y5LE",
        "outputId": "3359641c-9446-46bd-a1db-31bef93a62d4"
      },
      "execution_count": 13,
      "outputs": [
        {
          "output_type": "stream",
          "name": "stdout",
          "text": [
            "5\n"
          ]
        }
      ]
    },
    {
      "cell_type": "code",
      "source": [
        "# Q14. Write a code to find the index of the element \"cat\" in the tuple ('dog', 'cat', 'rabbit').\n",
        "Tuple = ('dog', 'cat', 'rabbit')\n",
        "print(Tuple.index('cat'))"
      ],
      "metadata": {
        "colab": {
          "base_uri": "https://localhost:8080/"
        },
        "id": "PkMTHLClzCjH",
        "outputId": "93d69195-e05e-44b4-c022-ea6307c9b206"
      },
      "execution_count": 14,
      "outputs": [
        {
          "output_type": "stream",
          "name": "stdout",
          "text": [
            "1\n"
          ]
        }
      ]
    },
    {
      "cell_type": "code",
      "source": [
        "# Q15. Write a code to create a tuple containing three different fruits and check if \"kiwi\" is in it.\n",
        "Tuple = ('apple', 'banana', 'orange')\n",
        "print(\"kiwi\" in Tuple)"
      ],
      "metadata": {
        "colab": {
          "base_uri": "https://localhost:8080/"
        },
        "id": "hJiH7NoRzNY6",
        "outputId": "ba781a41-d181-4de5-e768-c2b37590cc1a"
      },
      "execution_count": 15,
      "outputs": [
        {
          "output_type": "stream",
          "name": "stdout",
          "text": [
            "False\n"
          ]
        }
      ]
    },
    {
      "cell_type": "code",
      "source": [
        "# Q16. Write a code to create a set with the elements 'a', 'b', 'c' and print it.\n",
        "Set = {'a', 'b', 'c'}\n",
        "print(Set)"
      ],
      "metadata": {
        "colab": {
          "base_uri": "https://localhost:8080/"
        },
        "id": "NIE4rkCvzfuJ",
        "outputId": "50c3d179-9919-4708-b577-e8533a8e2fc4"
      },
      "execution_count": 16,
      "outputs": [
        {
          "output_type": "stream",
          "name": "stdout",
          "text": [
            "{'c', 'b', 'a'}\n"
          ]
        }
      ]
    },
    {
      "cell_type": "code",
      "source": [
        "# Q17. Write a code to clear all elements from the set {1, 2, 3, 4, 5}.\n",
        "Set = {1, 2, 3, 4, 5}\n",
        "Set.clear()\n",
        "print(Set)"
      ],
      "metadata": {
        "colab": {
          "base_uri": "https://localhost:8080/"
        },
        "id": "qwB4m56ozwoi",
        "outputId": "e2ccc704-e574-439f-fffe-c0a5a029ce81"
      },
      "execution_count": 17,
      "outputs": [
        {
          "output_type": "stream",
          "name": "stdout",
          "text": [
            "set()\n"
          ]
        }
      ]
    },
    {
      "cell_type": "code",
      "source": [
        "# Q18.Write a code to remove the element 4 from the set {1, 2, 3, 4}.\n",
        "Set = {1, 2, 3, 4}\n",
        "Set.remove(4)\n",
        "print(Set)"
      ],
      "metadata": {
        "colab": {
          "base_uri": "https://localhost:8080/"
        },
        "id": "J6So8R0vz83q",
        "outputId": "8201d955-d4df-4eb4-a08e-5996b7e624f2"
      },
      "execution_count": 18,
      "outputs": [
        {
          "output_type": "stream",
          "name": "stdout",
          "text": [
            "{1, 2, 3}\n"
          ]
        }
      ]
    },
    {
      "cell_type": "code",
      "source": [
        "# Q19. Write a code to find the union of two sets {1, 2, 3} and {3, 4, 5}.\n",
        "set1 = {1, 2, 3}\n",
        "set2 = {3, 4, 5}\n",
        "print(set1.union(set2))"
      ],
      "metadata": {
        "colab": {
          "base_uri": "https://localhost:8080/"
        },
        "id": "A8sYd-xn0Dno",
        "outputId": "621682f0-8fb5-458c-da6b-1b3625d6acf1"
      },
      "execution_count": 19,
      "outputs": [
        {
          "output_type": "stream",
          "name": "stdout",
          "text": [
            "{1, 2, 3, 4, 5}\n"
          ]
        }
      ]
    },
    {
      "cell_type": "code",
      "source": [
        "# Q20. Write a code to find the intersection of two sets {1, 2, 3} and {2, 3, 4}.\n",
        "set1 = {1, 2, 3}\n",
        "set2 = {2, 3, 4}\n",
        "print(set1.intersection(set2))"
      ],
      "metadata": {
        "colab": {
          "base_uri": "https://localhost:8080/"
        },
        "id": "TEokHgfP0hkm",
        "outputId": "7eb3c1e5-363f-4c92-9ce9-ccec22d81a53"
      },
      "execution_count": 20,
      "outputs": [
        {
          "output_type": "stream",
          "name": "stdout",
          "text": [
            "{2, 3}\n"
          ]
        }
      ]
    },
    {
      "cell_type": "code",
      "source": [
        "# Q21. Write a code to create a dictionary with the keys \"name\", \"age\", and \"city\", and print it.\n",
        "Dict = {\"name\": \"Sarvan\", \"age\": 20, \"city\": \"Mumbai\"}\n",
        "print(Dict)\n"
      ],
      "metadata": {
        "colab": {
          "base_uri": "https://localhost:8080/"
        },
        "id": "3m4LZzL30zC1",
        "outputId": "25d77ca6-82c6-4515-9ae2-2e91a5e14da5"
      },
      "execution_count": 21,
      "outputs": [
        {
          "output_type": "stream",
          "name": "stdout",
          "text": [
            "{'name': 'Sarvan', 'age': 20, 'city': 'Mumbai'}\n"
          ]
        }
      ]
    },
    {
      "cell_type": "code",
      "source": [
        "# Q22. Write a code to add a new key-value pair \"country\": \"USA\" to the dictionary {'name': 'John', 'age': 25}.\n",
        "Dict = {'name': 'John', 'age': 25}\n",
        "Dict[\"country\"] = \"USA\"\n",
        "print(Dict)"
      ],
      "metadata": {
        "colab": {
          "base_uri": "https://localhost:8080/"
        },
        "id": "YLv587eQ1AJq",
        "outputId": "70d2f4fc-a194-41bb-e013-4fea761747da"
      },
      "execution_count": 22,
      "outputs": [
        {
          "output_type": "stream",
          "name": "stdout",
          "text": [
            "{'name': 'John', 'age': 25, 'country': 'USA'}\n"
          ]
        }
      ]
    },
    {
      "cell_type": "code",
      "source": [
        "# Q23. Write a code to access the value associated with the key \"name\" in the dictionary {'name': 'Alice', 'age': 30}.\n",
        "Dict = {'name': 'Alice', 'age': 30}\n",
        "print(Dict[\"name\"])"
      ],
      "metadata": {
        "colab": {
          "base_uri": "https://localhost:8080/"
        },
        "id": "vSW-yQe-1IQA",
        "outputId": "9f052ee9-d94c-4882-fa16-1a52420048c4"
      },
      "execution_count": 23,
      "outputs": [
        {
          "output_type": "stream",
          "name": "stdout",
          "text": [
            "Alice\n"
          ]
        }
      ]
    },
    {
      "cell_type": "code",
      "source": [
        "# Q24. Write a code to remove the key \"age\" from the dictionary {'name': 'Bob', 'age': 22, 'city': 'New York'}.\n",
        "Dict = {'name': 'Bob', 'age': 22, 'city': 'New York'}\n",
        "Dict.pop(\"age\")\n",
        "print(Dict)"
      ],
      "metadata": {
        "colab": {
          "base_uri": "https://localhost:8080/"
        },
        "id": "CJSbBEwM1O4Y",
        "outputId": "332d858d-125f-4c9d-b2eb-37e3065c0812"
      },
      "execution_count": 24,
      "outputs": [
        {
          "output_type": "stream",
          "name": "stdout",
          "text": [
            "{'name': 'Bob', 'city': 'New York'}\n"
          ]
        }
      ]
    },
    {
      "cell_type": "code",
      "source": [
        "# Q25. Write a code to check if the key \"city\" exists in the dictionary {'name': 'Alice', 'city': 'Paris'}.\n",
        "Dict = {'name': 'Alice', 'city': 'Paris'}\n",
        "print(\"city\" in Dict)"
      ],
      "metadata": {
        "colab": {
          "base_uri": "https://localhost:8080/"
        },
        "id": "IgLv_ohF1Vhe",
        "outputId": "cf80b6f2-ab11-444b-de62-d12f3ca22f62"
      },
      "execution_count": 25,
      "outputs": [
        {
          "output_type": "stream",
          "name": "stdout",
          "text": [
            "True\n"
          ]
        }
      ]
    },
    {
      "cell_type": "code",
      "source": [
        "# Q26. Write a code to create a list, a tuple, and a dictionary, and print them all.\n",
        "List = [1, 2, 3]\n",
        "Tuple = (1, 2, 3)\n",
        "Dict = {\"a\": 1, \"b\": 2}\n",
        "print(List)\n",
        "print(Tuple)\n",
        "print(Dict)"
      ],
      "metadata": {
        "colab": {
          "base_uri": "https://localhost:8080/"
        },
        "id": "rJQ7mKeJ1dbp",
        "outputId": "72f85ac2-e95d-4194-e158-52d9cb8ecfbc"
      },
      "execution_count": 26,
      "outputs": [
        {
          "output_type": "stream",
          "name": "stdout",
          "text": [
            "[1, 2, 3]\n",
            "(1, 2, 3)\n",
            "{'a': 1, 'b': 2}\n"
          ]
        }
      ]
    },
    {
      "cell_type": "code",
      "source": [
        "# Q27. Write a code to create a list of 5 random numbers between 1 and 100, sort it in ascending order, and print the result.(replaced).\n",
        "import random\n",
        "List = [random.randint(1, 100) for _ in range(5)]\n",
        "List.sort()\n",
        "print(List)"
      ],
      "metadata": {
        "colab": {
          "base_uri": "https://localhost:8080/"
        },
        "id": "rsRUVraf1n4W",
        "outputId": "15dfcfef-6f66-4c09-e6dd-b0d154672439"
      },
      "execution_count": 27,
      "outputs": [
        {
          "output_type": "stream",
          "name": "stdout",
          "text": [
            "[12, 41, 41, 60, 72]\n"
          ]
        }
      ]
    },
    {
      "cell_type": "code",
      "source": [
        "# Q28. Write a code to create a list with strings and print the element at the third index.\n",
        "List = [\"apple\", \"banana\", \"orange\", \"grape\"]\n",
        "print(List[2])"
      ],
      "metadata": {
        "colab": {
          "base_uri": "https://localhost:8080/"
        },
        "id": "c6egNPd211tb",
        "outputId": "415f3b34-fa02-455a-f3f2-2414bcb3f6a5"
      },
      "execution_count": 28,
      "outputs": [
        {
          "output_type": "stream",
          "name": "stdout",
          "text": [
            "orange\n"
          ]
        }
      ]
    },
    {
      "cell_type": "code",
      "source": [
        "# Q29. Write a code to combine two dictionaries into one and print the result.\n",
        "Dict1 = {\"a\": 1, \"b\": 2}\n",
        "Dict2 = {\"c\": 3, \"d\": 4}\n",
        "Dict1.update(Dict2)\n",
        "print(Dict1)"
      ],
      "metadata": {
        "colab": {
          "base_uri": "https://localhost:8080/"
        },
        "id": "PkpqhUlL18nd",
        "outputId": "03ef309d-e59e-411d-f651-19aa1b440ec1"
      },
      "execution_count": 29,
      "outputs": [
        {
          "output_type": "stream",
          "name": "stdout",
          "text": [
            "{'a': 1, 'b': 2, 'c': 3, 'd': 4}\n"
          ]
        }
      ]
    },
    {
      "cell_type": "code",
      "source": [
        "# Q30. Write a code to convert a list of strings into a set.\n",
        "List = [\"apple\", \"banana\", \"orange\"]\n",
        "Set = set(List)\n",
        "print(Set)"
      ],
      "metadata": {
        "colab": {
          "base_uri": "https://localhost:8080/"
        },
        "id": "3zsq50nZ2Gfm",
        "outputId": "fe533dd4-bd4d-4e81-f6fb-1bfa3812f019"
      },
      "execution_count": 30,
      "outputs": [
        {
          "output_type": "stream",
          "name": "stdout",
          "text": [
            "{'apple', 'orange', 'banana'}\n"
          ]
        }
      ]
    }
  ]
}